{
 "cells": [
  {
   "cell_type": "code",
   "execution_count": 1,
   "id": "a907855d",
   "metadata": {},
   "outputs": [
    {
     "name": "stdout",
     "output_type": "stream",
     "text": [
      "여러분, ㅎㅎ\n"
     ]
    }
   ],
   "source": [
    "b = '여러분'\n",
    "print(b + \", ㅎㅎ\")"
   ]
  },
  {
   "cell_type": "code",
   "execution_count": 2,
   "id": "154c2252",
   "metadata": {},
   "outputs": [
    {
     "name": "stdout",
     "output_type": "stream",
     "text": [
      "새해복 많이 받으세용\n"
     ]
    }
   ],
   "source": [
    "c = '새해'\n",
    "print(c + \"복 많이 받으세용\")"
   ]
  },
  {
   "cell_type": "code",
   "execution_count": 3,
   "id": "1c56c00f",
   "metadata": {},
   "outputs": [
    {
     "ename": "NameError",
     "evalue": "name 'birth' is not defined",
     "output_type": "error",
     "traceback": [
      "\u001b[1;31m---------------------------------------------------------------------------\u001b[0m",
      "\u001b[1;31mNameError\u001b[0m                                 Traceback (most recent call last)",
      "\u001b[1;32m~\\AppData\\Local\\Temp\\ipykernel_23416\\2192130380.py\u001b[0m in \u001b[0;36m<module>\u001b[1;34m\u001b[0m\n\u001b[1;32m----> 1\u001b[1;33m \u001b[0mbirth\u001b[0m\u001b[1;33m\u001b[0m\u001b[1;33m\u001b[0m\u001b[0m\n\u001b[0m",
      "\u001b[1;31mNameError\u001b[0m: name 'birth' is not defined"
     ]
    }
   ],
   "source": [
    "birth"
   ]
  },
  {
   "cell_type": "code",
   "execution_count": 4,
   "id": "fa1f506a",
   "metadata": {},
   "outputs": [
    {
     "data": {
      "text/plain": [
       "'1995'"
      ]
     },
     "execution_count": 4,
     "metadata": {},
     "output_type": "execute_result"
    }
   ],
   "source": [
    "birth = '1995'\n",
    "birth"
   ]
  },
  {
   "cell_type": "code",
   "execution_count": 5,
   "id": "8bc72948",
   "metadata": {},
   "outputs": [
    {
     "ename": "TypeError",
     "evalue": "unsupported operand type(s) for -: 'int' and 'str'",
     "output_type": "error",
     "traceback": [
      "\u001b[1;31m---------------------------------------------------------------------------\u001b[0m",
      "\u001b[1;31mTypeError\u001b[0m                                 Traceback (most recent call last)",
      "\u001b[1;32m~\\AppData\\Local\\Temp\\ipykernel_23416\\2870581313.py\u001b[0m in \u001b[0;36m<module>\u001b[1;34m\u001b[0m\n\u001b[1;32m----> 1\u001b[1;33m \u001b[1;36m2024\u001b[0m\u001b[1;33m-\u001b[0m\u001b[0mbirth\u001b[0m\u001b[1;33m\u001b[0m\u001b[1;33m\u001b[0m\u001b[0m\n\u001b[0m",
      "\u001b[1;31mTypeError\u001b[0m: unsupported operand type(s) for -: 'int' and 'str'"
     ]
    }
   ],
   "source": [
    "2024-birth"
   ]
  },
  {
   "cell_type": "code",
   "execution_count": 6,
   "id": "0c7ceb76",
   "metadata": {},
   "outputs": [
    {
     "data": {
      "text/plain": [
       "29"
      ]
     },
     "execution_count": 6,
     "metadata": {},
     "output_type": "execute_result"
    }
   ],
   "source": [
    "2024 - int(birth)"
   ]
  },
  {
   "cell_type": "code",
   "execution_count": 7,
   "id": "67ff5959",
   "metadata": {},
   "outputs": [
    {
     "name": "stdout",
     "output_type": "stream",
     "text": [
      "29 세 이시군요.\n"
     ]
    }
   ],
   "source": [
    "print(2024-int(birth), \"세 이시군요.\")"
   ]
  },
  {
   "cell_type": "code",
   "execution_count": 8,
   "id": "06e84a6f",
   "metadata": {},
   "outputs": [
    {
     "name": "stdout",
     "output_type": "stream",
     "text": [
      "너 몇 살이야!19\n",
      "19살인거 어쩌라고!\n"
     ]
    }
   ],
   "source": [
    "name = input(\"너 몇 살이야!\")\n",
    "print(name + \"살인거 어쩌라고!\")"
   ]
  },
  {
   "cell_type": "code",
   "execution_count": 9,
   "id": "32b13891",
   "metadata": {},
   "outputs": [
    {
     "name": "stdout",
     "output_type": "stream",
     "text": [
      "그대는 이름이 무엇인가?강민석\n",
      "생일은 ? 6월30일\n"
     ]
    },
    {
     "ename": "ValueError",
     "evalue": "invalid literal for int() with base 10: '6월30일'",
     "output_type": "error",
     "traceback": [
      "\u001b[1;31m---------------------------------------------------------------------------\u001b[0m",
      "\u001b[1;31mValueError\u001b[0m                                Traceback (most recent call last)",
      "\u001b[1;32m~\\AppData\\Local\\Temp\\ipykernel_23416\\2317320141.py\u001b[0m in \u001b[0;36m<module>\u001b[1;34m\u001b[0m\n\u001b[0;32m      2\u001b[0m \u001b[0mbirth\u001b[0m \u001b[1;33m=\u001b[0m \u001b[0minput\u001b[0m\u001b[1;33m(\u001b[0m\u001b[1;34m\"생일은 ? \"\u001b[0m\u001b[1;33m)\u001b[0m\u001b[1;33m\u001b[0m\u001b[1;33m\u001b[0m\u001b[0m\n\u001b[0;32m      3\u001b[0m \u001b[1;33m\u001b[0m\u001b[0m\n\u001b[1;32m----> 4\u001b[1;33m \u001b[0mprint\u001b[0m \u001b[1;33m(\u001b[0m\u001b[0mname\u001b[0m \u001b[1;33m+\u001b[0m \u001b[1;34m\"씨, 생일이 \"\u001b[0m \u001b[1;33m+\u001b[0m \u001b[0mint\u001b[0m\u001b[1;33m(\u001b[0m\u001b[0mbirth\u001b[0m\u001b[1;33m)\u001b[0m \u001b[1;33m+\u001b[0m \u001b[1;34m\"이시군요\"\u001b[0m\u001b[1;33m)\u001b[0m\u001b[1;33m\u001b[0m\u001b[1;33m\u001b[0m\u001b[0m\n\u001b[0m",
      "\u001b[1;31mValueError\u001b[0m: invalid literal for int() with base 10: '6월30일'"
     ]
    }
   ],
   "source": [
    "name = input(\"그대는 이름이 무엇인가?\")\n",
    "birth = input(\"생일은 ? \")\n",
    "\n",
    "print (name + \"씨, 생일이 \" + int(birth) + \"이시군요\")"
   ]
  },
  {
   "cell_type": "code",
   "execution_count": 11,
   "id": "3ef52a6e",
   "metadata": {},
   "outputs": [
    {
     "name": "stdout",
     "output_type": "stream",
     "text": [
      "2\n"
     ]
    }
   ],
   "source": [
    "import random\n",
    "\n",
    "dice = random.randint(1, 6)\n",
    "print(dice)"
   ]
  },
  {
   "cell_type": "code",
   "execution_count": 12,
   "id": "5651652f",
   "metadata": {},
   "outputs": [
    {
     "name": "stdout",
     "output_type": "stream",
     "text": [
      "1.4142135623730951\n"
     ]
    }
   ],
   "source": [
    "import math\n",
    "\n",
    "print(math.sqrt(2))"
   ]
  }
 ],
 "metadata": {
  "kernelspec": {
   "display_name": "Python 3 (ipykernel)",
   "language": "python",
   "name": "python3"
  },
  "language_info": {
   "codemirror_mode": {
    "name": "ipython",
    "version": 3
   },
   "file_extension": ".py",
   "mimetype": "text/x-python",
   "name": "python",
   "nbconvert_exporter": "python",
   "pygments_lexer": "ipython3",
   "version": "3.9.13"
  }
 },
 "nbformat": 4,
 "nbformat_minor": 5
}
