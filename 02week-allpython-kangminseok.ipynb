{
 "cells": [
  {
   "cell_type": "code",
   "execution_count": 1,
   "id": "5dd2be9d",
   "metadata": {},
   "outputs": [
    {
     "name": "stdout",
     "output_type": "stream",
     "text": [
      "여러분, ㅎㅎ\n"
     ]
    }
   ],
   "source": [
    "b = '여러분'\n",
    "print(b + \", ㅎㅎ\")"
   ]
  },
  {
   "cell_type": "code",
   "execution_count": 2,
   "id": "eaf89b3e",
   "metadata": {},
   "outputs": [
    {
     "name": "stdout",
     "output_type": "stream",
     "text": [
      "새해복 많이 받으세용\n"
     ]
    }
   ],
   "source": [
    "c = '새해'\n",
    "print(c + \"복 많이 받으세용\")"
   ]
  },
  {
   "cell_type": "code",
   "execution_count": 3,
   "id": "ac0d829f",
   "metadata": {},
   "outputs": [
    {
     "ename": "NameError",
     "evalue": "name 'birth' is not defined",
     "output_type": "error",
     "traceback": [
      "\u001b[1;31m---------------------------------------------------------------------------\u001b[0m",
      "\u001b[1;31mNameError\u001b[0m                                 Traceback (most recent call last)",
      "\u001b[1;32m~\\AppData\\Local\\Temp\\ipykernel_23416\\2192130380.py\u001b[0m in \u001b[0;36m<module>\u001b[1;34m\u001b[0m\n\u001b[1;32m----> 1\u001b[1;33m \u001b[0mbirth\u001b[0m\u001b[1;33m\u001b[0m\u001b[1;33m\u001b[0m\u001b[0m\n\u001b[0m",
      "\u001b[1;31mNameError\u001b[0m: name 'birth' is not defined"
     ]
    }
   ],
   "source": [
    "birth"
   ]
  },
  {
   "cell_type": "code",
   "execution_count": 4,
   "id": "c49ce1d3",
   "metadata": {},
   "outputs": [
    {
     "data": {
      "text/plain": [
       "'1995'"
      ]
     },
     "execution_count": 4,
     "metadata": {},
     "output_type": "execute_result"
    }
   ],
   "source": [
    "birth = '1995'\n",
    "birth"
   ]
  },
  {
   "cell_type": "code",
   "execution_count": 5,
   "id": "7b5f29a1",
   "metadata": {},
   "outputs": [
    {
     "ename": "TypeError",
     "evalue": "unsupported operand type(s) for -: 'int' and 'str'",
     "output_type": "error",
     "traceback": [
      "\u001b[1;31m---------------------------------------------------------------------------\u001b[0m",
      "\u001b[1;31mTypeError\u001b[0m                                 Traceback (most recent call last)",
      "\u001b[1;32m~\\AppData\\Local\\Temp\\ipykernel_23416\\2870581313.py\u001b[0m in \u001b[0;36m<module>\u001b[1;34m\u001b[0m\n\u001b[1;32m----> 1\u001b[1;33m \u001b[1;36m2024\u001b[0m\u001b[1;33m-\u001b[0m\u001b[0mbirth\u001b[0m\u001b[1;33m\u001b[0m\u001b[1;33m\u001b[0m\u001b[0m\n\u001b[0m",
      "\u001b[1;31mTypeError\u001b[0m: unsupported operand type(s) for -: 'int' and 'str'"
     ]
    }
   ],
   "source": [
    "2024-birth"
   ]
  },
  {
   "cell_type": "code",
   "execution_count": 6,
   "id": "8e6ad964",
   "metadata": {},
   "outputs": [
    {
     "data": {
      "text/plain": [
       "29"
      ]
     },
     "execution_count": 6,
     "metadata": {},
     "output_type": "execute_result"
    }
   ],
   "source": [
    "2024 - int(birth)"
   ]
  },
  {
   "cell_type": "code",
   "execution_count": 7,
   "id": "1779d450",
   "metadata": {},
   "outputs": [
    {
     "name": "stdout",
     "output_type": "stream",
     "text": [
      "29 세 이시군요.\n"
     ]
    }
   ],
   "source": [
    "print(2024-int(birth), \"세 이시군요.\")"
   ]
  },
  {
   "cell_type": "code",
   "execution_count": 8,
   "id": "579d4e0f",
   "metadata": {},
   "outputs": [
    {
     "name": "stdout",
     "output_type": "stream",
     "text": [
      "너 몇 살이야!19\n",
      "19살인거 어쩌라고!\n"
     ]
    }
   ],
   "source": [
    "name = input(\"너 몇 살이야!\")\n",
    "print(name + \"살인거 어쩌라고!\")"
   ]
  },
  {
   "cell_type": "code",
   "execution_count": 9,
   "id": "e98f4680",
   "metadata": {},
   "outputs": [
    {
     "name": "stdout",
     "output_type": "stream",
     "text": [
      "그대는 이름이 무엇인가?강민석\n",
      "생일은 ? 6월30일\n"
     ]
    },
    {
     "ename": "ValueError",
     "evalue": "invalid literal for int() with base 10: '6월30일'",
     "output_type": "error",
     "traceback": [
      "\u001b[1;31m---------------------------------------------------------------------------\u001b[0m",
      "\u001b[1;31mValueError\u001b[0m                                Traceback (most recent call last)",
      "\u001b[1;32m~\\AppData\\Local\\Temp\\ipykernel_23416\\2317320141.py\u001b[0m in \u001b[0;36m<module>\u001b[1;34m\u001b[0m\n\u001b[0;32m      2\u001b[0m \u001b[0mbirth\u001b[0m \u001b[1;33m=\u001b[0m \u001b[0minput\u001b[0m\u001b[1;33m(\u001b[0m\u001b[1;34m\"생일은 ? \"\u001b[0m\u001b[1;33m)\u001b[0m\u001b[1;33m\u001b[0m\u001b[1;33m\u001b[0m\u001b[0m\n\u001b[0;32m      3\u001b[0m \u001b[1;33m\u001b[0m\u001b[0m\n\u001b[1;32m----> 4\u001b[1;33m \u001b[0mprint\u001b[0m \u001b[1;33m(\u001b[0m\u001b[0mname\u001b[0m \u001b[1;33m+\u001b[0m \u001b[1;34m\"씨, 생일이 \"\u001b[0m \u001b[1;33m+\u001b[0m \u001b[0mint\u001b[0m\u001b[1;33m(\u001b[0m\u001b[0mbirth\u001b[0m\u001b[1;33m)\u001b[0m \u001b[1;33m+\u001b[0m \u001b[1;34m\"이시군요\"\u001b[0m\u001b[1;33m)\u001b[0m\u001b[1;33m\u001b[0m\u001b[1;33m\u001b[0m\u001b[0m\n\u001b[0m",
      "\u001b[1;31mValueError\u001b[0m: invalid literal for int() with base 10: '6월30일'"
     ]
    }
   ],
   "source": [
    "name = input(\"그대는 이름이 무엇인가?\")\n",
    "birth = input(\"생일은 ? \")\n",
    "\n",
    "print (name + \"씨, 생일이 \" + int(birth) + \"이시군요\")"
   ]
  },
  {
   "cell_type": "code",
   "execution_count": 11,
   "id": "91ce06b9",
   "metadata": {},
   "outputs": [
    {
     "name": "stdout",
     "output_type": "stream",
     "text": [
      "2\n"
     ]
    }
   ],
   "source": [
    "import random\n",
    "\n",
    "dice = random.randint(1, 6)\n",
    "print(dice)"
   ]
  },
  {
   "cell_type": "code",
   "execution_count": 13,
   "id": "15e4171b",
   "metadata": {},
   "outputs": [
    {
     "name": "stdout",
     "output_type": "stream",
     "text": [
      "1.4142135623730951\n"
     ]
    }
   ],
   "source": [
    "import math\n",
    "\n",
    "print(math.sqrt(2))"
   ]
  },
  {
   "cell_type": "code",
   "execution_count": 14,
   "id": "a05d3b9c",
   "metadata": {},
   "outputs": [
    {
     "name": "stdout",
     "output_type": "stream",
     "text": [
      "0\n",
      "1\n",
      "2\n",
      "3\n",
      "4\n",
      "5\n",
      "6\n",
      "7\n",
      "8\n",
      "9\n"
     ]
    }
   ],
   "source": [
    "for num in range(10):\n",
    "    print(num)"
   ]
  },
  {
   "cell_type": "code",
   "execution_count": 15,
   "id": "80447fc9",
   "metadata": {},
   "outputs": [
    {
     "name": "stdout",
     "output_type": "stream",
     "text": [
      "80\n",
      "70\n",
      "90\n",
      "100\n"
     ]
    }
   ],
   "source": [
    "test_score = [80, 70, 90, 100]\n",
    "for score in test_score :\n",
    "    print(score)"
   ]
  },
  {
   "cell_type": "code",
   "execution_count": 16,
   "id": "9b819726",
   "metadata": {},
   "outputs": [
    {
     "name": "stdout",
     "output_type": "stream",
     "text": [
      "국어\n",
      "영어\n",
      "수학\n",
      "과학\n"
     ]
    }
   ],
   "source": [
    "test_name = ['국어', '영어', '수학', '과학']\n",
    "for name in test_name :\n",
    "    print(name)"
   ]
  },
  {
   "cell_type": "code",
   "execution_count": 17,
   "id": "ff6f4a6b",
   "metadata": {},
   "outputs": [
    {
     "name": "stdout",
     "output_type": "stream",
     "text": [
      "안녕하세요!\n"
     ]
    }
   ],
   "source": [
    "if (10>0):\n",
    "    print(\"안녕하세요!\")"
   ]
  },
  {
   "cell_type": "code",
   "execution_count": 18,
   "id": "42e36797",
   "metadata": {},
   "outputs": [
    {
     "name": "stdout",
     "output_type": "stream",
     "text": [
      "패스워드 입력하십숑12345\n",
      "로그인 O\n"
     ]
    }
   ],
   "source": [
    "password = input(\"패스워드 입력하십숑\")\n",
    "if(int(password) == 12345) :\n",
    "    print(\"로그인 O\")\n",
    "elif(int(password) == 11111):\n",
    "    print(\"관리자 O\")\n",
    "else:\n",
    "    print(\"실패.\")"
   ]
  },
  {
   "cell_type": "code",
   "execution_count": 19,
   "id": "80c3782e",
   "metadata": {},
   "outputs": [
    {
     "name": "stdout",
     "output_type": "stream",
     "text": [
      "[1, 2, 3, 4, 5]\n"
     ]
    }
   ],
   "source": [
    "arr1 = [1,2,3,4,5]\n",
    "print(arr1)"
   ]
  },
  {
   "cell_type": "code",
   "execution_count": 20,
   "id": "55b63104",
   "metadata": {},
   "outputs": [
    {
     "name": "stdout",
     "output_type": "stream",
     "text": [
      "['월', '화', '수', '목', '금', '토']\n"
     ]
    }
   ],
   "source": [
    "arr2 = ['월', '화', '수','목','금','토']\n",
    "print(arr2)"
   ]
  },
  {
   "cell_type": "code",
   "execution_count": 21,
   "id": "93d4592a",
   "metadata": {},
   "outputs": [
    {
     "name": "stdout",
     "output_type": "stream",
     "text": [
      "월\n",
      "화\n",
      "수\n",
      "목\n",
      "금\n",
      "토\n"
     ]
    }
   ],
   "source": [
    "arr2 = ['월', '화', '수','목','금','토']\n",
    "print(arr2[0])\n",
    "print(arr2[1])\n",
    "print(arr2[2])\n",
    "print(arr2[3])\n",
    "print(arr2[4])\n",
    "print(arr2[5])"
   ]
  },
  {
   "cell_type": "code",
   "execution_count": 22,
   "id": "5f72eab1",
   "metadata": {},
   "outputs": [
    {
     "name": "stdout",
     "output_type": "stream",
     "text": [
      "토\n",
      "금\n",
      "목\n",
      "수\n",
      "화\n",
      "월\n"
     ]
    }
   ],
   "source": [
    "arr2 = ['월', '화', '수','목','금','토']\n",
    "print(arr2[-1])\n",
    "print(arr2[-2])\n",
    "print(arr2[-3])\n",
    "print(arr2[-4])\n",
    "print(arr2[-5])\n",
    "print(arr2[-6])"
   ]
  },
  {
   "cell_type": "code",
   "execution_count": 23,
   "id": "97dc1d50",
   "metadata": {},
   "outputs": [
    {
     "name": "stdout",
     "output_type": "stream",
     "text": [
      "['월', '화']\n",
      "['화', '수', '목']\n",
      "['화', '수', '목', '금', '토']\n",
      "['월', '화', '수']\n",
      "['월', '화', '수', '목', '금', '토']\n"
     ]
    }
   ],
   "source": [
    "arr2 = ['월', '화', '수','목','금','토']\n",
    "print(arr2[0:2])\n",
    "print(arr2[1:4])\n",
    "print(arr2[1:])\n",
    "print(arr2[:3])\n",
    "print(arr2[:])"
   ]
  },
  {
   "cell_type": "code",
   "execution_count": 24,
   "id": "c2c931bc",
   "metadata": {},
   "outputs": [
    {
     "name": "stdout",
     "output_type": "stream",
     "text": [
      "[1, 2, 3, 4, 5]\n",
      "5\n",
      "[1, 2, 3, 4, 5, 6]\n",
      "6\n"
     ]
    }
   ],
   "source": [
    "arr1 = [1,2,3,4,5]\n",
    "print(arr1)\n",
    "print(len(arr1))\n",
    "arr1.append(6)\n",
    "print(arr1)\n",
    "print(len(arr1))"
   ]
  },
  {
   "cell_type": "code",
   "execution_count": 25,
   "id": "0794f425",
   "metadata": {},
   "outputs": [
    {
     "name": "stdout",
     "output_type": "stream",
     "text": [
      "['월', '화', '수', '목', '금', '토']\n",
      "6\n",
      "['월', '화', '수', '목', '금', '토', '']\n",
      "7\n"
     ]
    }
   ],
   "source": [
    "arr2 = ['월', '화', '수','목','금','토']\n",
    "print(arr2)\n",
    "print(len(arr2))\n",
    "arr2.append(\"\")\n",
    "print(arr2)\n",
    "print(len(arr2))"
   ]
  },
  {
   "cell_type": "code",
   "execution_count": 27,
   "id": "0c0b7966",
   "metadata": {},
   "outputs": [
    {
     "name": "stdout",
     "output_type": "stream",
     "text": [
      "첫번째 수 치라고.1\n",
      "두번째 수 치라고.2\n",
      "2가 커용!\n"
     ]
    }
   ],
   "source": [
    "inputone = input(\"첫번째 수 치라고.\")\n",
    "inputtwo = input(\"두번째 수 치라고.\")\n",
    "\n",
    "if(inputone > inputtwo) :\n",
    "    print(inputone + \"가 커용!\")\n",
    "else :\n",
    "    print(inputtwo + \"가 커용!\")"
   ]
  },
  {
   "cell_type": "code",
   "execution_count": 68,
   "id": "795aff70",
   "metadata": {},
   "outputs": [
    {
     "name": "stdout",
     "output_type": "stream",
     "text": [
      "다음 중 원하는 변환을 선택하세요 : \n",
      "1. 섭씨를 화씨로 변환 \n",
      "2. 킬로미터를 마일로 변환 \n",
      "3. 파운드를 킬로그램으로 변환 \n",
      "무엇을 하시겠습니까? : 3\n",
      "파운드 입력하세요: 5\n",
      "5 파운드는 2.26796 킬로그램입니다.\n"
     ]
    }
   ],
   "source": [
    "# 단위 변환 함수 정의\n",
    "def celsius_to_fahrenheit(celsius):\n",
    "    return (celsius * 9/5) + 32\n",
    "\n",
    "def kilometers_to_miles(kilometers):\n",
    "    return kilometers * 0.621371\n",
    "\n",
    "def pounds_to_kilograms(pounds):\n",
    "    return pounds * 0.453592\n",
    "\n",
    "# 사용자로부터 함수 선택\n",
    "print(\"다음 중 원하는 변환을 선택하세요 : \")\n",
    "print(\"1. 섭씨를 화씨로 변환 \")\n",
    "print(\"2. 킬로미터를 마일로 변환 \")\n",
    "print(\"3. 파운드를 킬로그램으로 변환 \")\n",
    "\n",
    "selecttype = input(\"무엇을 하시겠습니까? : \")\n",
    "\n",
    "if int(selecttype) == 1:\n",
    "    InsertA = input(\"섭씨 입력하세요: \")\n",
    "    result = celsius_to_fahrenheit(float(InsertA))  # 입력값을 실수로 변환\n",
    "    print(f\"{InsertA} 섭씨는 {result} 화씨입니다.\")\n",
    "elif int(selecttype) == 2:\n",
    "    InsertB = input(\"킬로미터 입력하세요: \")\n",
    "    result = kilometers_to_miles(float(InsertB))  # 입력값을 실수로 변환\n",
    "    print(f\"{InsertB} 킬로미터는 {result} 마일입니다.\")\n",
    "elif int(selecttype) == 3:\n",
    "    InsertC = input(\"파운드 입력하세요: \")\n",
    "    result = pounds_to_kilograms(float(InsertC))  # 입력값을 실수로 변환\n",
    "    print(f\"{InsertC} 파운드는 {result} 킬로그램입니다.\")\n",
    "else:\n",
    "    print(\"올바른 선택을 하지 않았습니다.\")\n"
   ]
  }
 ],
 "metadata": {
  "kernelspec": {
   "display_name": "Python 3 (ipykernel)",
   "language": "python",
   "name": "python3"
  },
  "language_info": {
   "codemirror_mode": {
    "name": "ipython",
    "version": 3
   },
   "file_extension": ".py",
   "mimetype": "text/x-python",
   "name": "python",
   "nbconvert_exporter": "python",
   "pygments_lexer": "ipython3",
   "version": "3.9.13"
  }
 },
 "nbformat": 4,
 "nbformat_minor": 5
}
